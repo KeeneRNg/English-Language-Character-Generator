{
 "cells": [
  {
   "cell_type": "markdown",
   "metadata": {},
   "source": [
    "<table class=\"table table-bordered\">\n",
    "    <tr>\n",
    "        <th style=\"text-align:center; width:25%\"><img src='https://www.np.edu.sg/PublishingImages/Pages/default/odp/ICT.jpg' style=\"width: 250px; height: 125px; \"></th>\n",
    "        <th style=\"text-align:center;\"><h1>Deep Learning</h1><h2>Assignment 2  (Problem 2) - Character Generator Model (Individual)</h2><h3>AY2022/23 Semester</h3></th>\n",
    "    </tr>\n",
    "</table>"
   ]
  },
  {
   "cell_type": "code",
   "execution_count": 30,
   "metadata": {},
   "outputs": [
    {
     "name": "stdout",
     "output_type": "stream",
     "text": [
      "keras:  2.9.0\n"
     ]
    }
   ],
   "source": [
    "# Import the Required Packages\n",
    "from tensorflow import keras\n",
    "print('keras: ', keras.__version__)\n",
    "import os\n",
    "\n",
    "import numpy as np\n",
    "import tensorflow as tf\n",
    "import matplotlib.pyplot as plt\n",
    "\n",
    "from tensorflow import strings\n",
    "\n",
    "from tensorflow.keras import utils, layers, losses, optimizers, callbacks, backend, regularizers, Sequential, Input\n",
    "from tensorflow.keras.applications.inception_v3 import InceptionV3\n",
    "from tensorflow.keras.applications.efficientnet import EfficientNetB0\n",
    "from tensorflow.keras.models import Model\n",
    "import tensorflow.keras.backend as K\n",
    "from tensorflow.keras.layers.experimental.preprocessing import TextVectorization\n",
    "import string\n",
    "import re"
   ]
  },
  {
   "cell_type": "markdown",
   "metadata": {},
   "source": [
    "## Step 1 – Data Loading and Processing"
   ]
  },
  {
   "cell_type": "markdown",
   "metadata": {},
   "source": [
    "### 1.1 Data Loading"
   ]
  },
  {
   "cell_type": "code",
   "execution_count": 4,
   "metadata": {
    "scrolled": true
   },
   "outputs": [
    {
     "name": "stdout",
     "output_type": "stream",
     "text": [
      "Corpus length: 474429\n",
      "<class 'str'>\n"
     ]
    }
   ],
   "source": [
    "import numpy as np\n",
    "\n",
    "# openning and reading the Harry_Potter_Book1.txt file\n",
    "path = 'E:\\\\Keene\\DL\\Assignment 2\\Harry_Potter_Book1_Original.txt'\n",
    "text = open(path, 'r', encoding='utf-8').read().lower()\n",
    "print('Corpus length:', len(text))\n",
    "print(type(text))"
   ]
  },
  {
   "cell_type": "code",
   "execution_count": 5,
   "metadata": {},
   "outputs": [
    {
     "name": "stdout",
     "output_type": "stream",
     "text": [
      "Number of sequences: 158123\n",
      "sentences[0]:  / \n",
      "\n",
      "\n",
      "\n",
      "\n",
      "the boy who lived \n",
      "\n",
      "mr. and mrs. dursley, of number f\n",
      "next_chars[0]:  o\n",
      "\n",
      "\n",
      "sentences[1]:  \n",
      "\n",
      "\n",
      "\n",
      "the boy who lived \n",
      "\n",
      "mr. and mrs. dursley, of number four\n",
      "next_chars[1]:  ,\n"
     ]
    }
   ],
   "source": [
    "# Checking the total number of characters in the original text\n",
    "\n",
    "# Length of extracted character sequences\n",
    "maxlen = 60\n",
    "\n",
    "# We sample a new sequence every `step` characters\n",
    "step = 3\n",
    "\n",
    "# This holds our extracted sequences\n",
    "sentences = []\n",
    "\n",
    "# This holds the targets (the follow-up characters)\n",
    "next_chars = []\n",
    "\n",
    "for i in range(0, len(text) - maxlen, step):\n",
    "    sentences.append(text[i: i + maxlen])\n",
    "    next_chars.append(text[i + maxlen])\n",
    "print('Number of sequences:', len(sentences))\n",
    "print('sentences[0]: ',sentences[0])\n",
    "print('next_chars[0]: ',next_chars[0])\n",
    "print('\\n')\n",
    "print('sentences[1]: ',sentences[1])\n",
    "print('next_chars[1]: ',next_chars[1])"
   ]
  },
  {
   "cell_type": "code",
   "execution_count": 6,
   "metadata": {},
   "outputs": [
    {
     "name": "stdout",
     "output_type": "stream",
     "text": [
      "Unique characters: 59\n",
      "['\\n', ' ', '!', '\"', \"'\", '(', ')', ',', '-', '.', '/', '0', '1', '2', '3', '4', '5', '6', '7', '8', '9', ':', ';', '?', '\\\\', 'a', 'b', 'c', 'd', 'e', 'f', 'g', 'h', 'i', 'j', 'k', 'l', 'm', 'n', 'o', 'p', 'q', 'r', 's', 't', 'u', 'v', 'w', 'x', 'y', 'z', '|', '—', '‘', '’', '“', '”', '•', '■']\n"
     ]
    }
   ],
   "source": [
    "# Original list of unique characters in the corpus\n",
    "chars = sorted(list(set(text)))\n",
    "print('Unique characters:', len(chars))\n",
    "print(chars)\n",
    "# Dictionary mapping unique characters to their index in `chars`\n",
    "char_indices = dict((char, chars.index(char)) for char in chars)"
   ]
  },
  {
   "cell_type": "markdown",
   "metadata": {},
   "source": [
    "### 1.2 Data Processing\n"
   ]
  },
  {
   "cell_type": "code",
   "execution_count": 52,
   "metadata": {},
   "outputs": [
    {
     "name": "stdout",
     "output_type": "stream",
     "text": [
      "Corpus length: 454523\n",
      "<class 'str'>\n"
     ]
    }
   ],
   "source": [
    "# openning and reading the Harry_Potter_Book1.txt file after cleaning\n",
    "#path = 'C:\\\\Users\\Keene Ng\\Keene\\School\\Yr 2.1\\DL\\Assignment 2\\Harry_Potter_Book1.txt'\n",
    "path = 'E:\\\\Keene\\DL\\Assignment 2\\Harry_Potter_Book1.txt'\n",
    "text = open(path, 'r', encoding='utf-8').read().lower()\n",
    "print('Corpus length:', len(text))\n",
    "print(type(text))"
   ]
  },
  {
   "cell_type": "code",
   "execution_count": 53,
   "metadata": {},
   "outputs": [
    {
     "name": "stdout",
     "output_type": "stream",
     "text": [
      "Number of sequences: 151488\n",
      "sentences[0]:  the boy who lived \n",
      "\"mr. and mrs. dursley, of number four, pr\n",
      "next_chars[0]:  i\n",
      "\n",
      "\n",
      "sentences[1]:   boy who lived \n",
      "\"mr. and mrs. dursley, of number four, prive\n",
      "next_chars[1]:  t\n"
     ]
    }
   ],
   "source": [
    "# Checking the total number of characters in the text after cleaning\n",
    "# Length of extracted character sequences\n",
    "maxlen = 60\n",
    "\n",
    "# We sample a new sequence every `step` characters\n",
    "step = 3\n",
    "\n",
    "# This holds our extracted sequences\n",
    "sentences = []\n",
    "\n",
    "# This holds the targets (the follow-up characters)\n",
    "next_chars = []\n",
    "\n",
    "for i in range(0, len(text) - maxlen, step):\n",
    "    sentences.append(text[i: i + maxlen])\n",
    "    next_chars.append(text[i + maxlen])\n",
    "print('Number of sequences:', len(sentences))\n",
    "print('sentences[0]: ',sentences[0])\n",
    "print('next_chars[0]: ',next_chars[0])\n",
    "print('\\n')\n",
    "print('sentences[1]: ',sentences[1])\n",
    "print('next_chars[1]: ',next_chars[1])"
   ]
  },
  {
   "cell_type": "code",
   "execution_count": 54,
   "metadata": {},
   "outputs": [
    {
     "name": "stdout",
     "output_type": "stream",
     "text": [
      "Unique characters: 56\n",
      "['\\n', ' ', '!', '\"', \"'\", '(', ')', ',', '-', '.', '/', '0', '1', '2', '3', '4', '5', '6', '7', '8', '9', ':', ';', '?', '\\\\', 'a', 'b', 'c', 'd', 'e', 'f', 'g', 'h', 'i', 'j', 'k', 'l', 'm', 'n', 'o', 'p', 'q', 'r', 's', 't', 'u', 'v', 'w', 'x', 'y', 'z', '—', '‘', '’', '“', '”']\n"
     ]
    }
   ],
   "source": [
    "# list of unique characters in the corpus after processing\n",
    "chars = sorted(list(set(text)))\n",
    "print('Unique characters:', len(chars))\n",
    "print(chars)\n",
    "# Dictionary mapping unique characters to their index in `chars`\n",
    "char_indices = dict((char, chars.index(char)) for char in chars)"
   ]
  },
  {
   "cell_type": "code",
   "execution_count": 55,
   "metadata": {},
   "outputs": [
    {
     "name": "stdout",
     "output_type": "stream",
     "text": [
      "Vectorization...\n",
      "len(x):  151488\n",
      "x[0]:  [[False False False ... False False False]\n",
      " [False False False ... False False False]\n",
      " [False False False ... False False False]\n",
      " ...\n",
      " [False  True False ... False False False]\n",
      " [False False False ... False False False]\n",
      " [False False False ... False False False]]\n",
      "len(y):  151488\n",
      "y[0]:  [False False False False False False False False False False False False\n",
      " False False False False False False False False False False False False\n",
      " False False False False False False False False False  True False False\n",
      " False False False False False False False False False False False False\n",
      " False False False False False False False False]\n"
     ]
    }
   ],
   "source": [
    "# Next, one-hot encode the characters into binary arrays.\n",
    "print('Vectorization...')\n",
    "x = np.zeros((len(sentences), maxlen, len(chars)), dtype=bool)\n",
    "y = np.zeros((len(sentences), len(chars)), dtype=np.bool_)\n",
    "for i, sentence in enumerate(sentences):\n",
    "    for t, char in enumerate(sentence):\n",
    "        x[i, t, char_indices[char]] = 1\n",
    "    y[i, char_indices[next_chars[i]]] = 1\n",
    "print('len(x): ',len(x))\n",
    "print('x[0]: ',x[0])\n",
    "print('len(y): ',len(y))\n",
    "print('y[0]: ',y[0])\n",
    "    "
   ]
  },
  {
   "cell_type": "code",
   "execution_count": 56,
   "metadata": {},
   "outputs": [
    {
     "data": {
      "text/plain": [
       "(151488, 60, 56)"
      ]
     },
     "execution_count": 56,
     "metadata": {},
     "output_type": "execute_result"
    }
   ],
   "source": [
    "x.shape"
   ]
  },
  {
   "cell_type": "markdown",
   "metadata": {},
   "source": [
    "## Step 2 – Develop Character Generator Model"
   ]
  },
  {
   "cell_type": "code",
   "execution_count": 82,
   "metadata": {},
   "outputs": [
    {
     "name": "stdout",
     "output_type": "stream",
     "text": [
      "Model: \"sequential_14\"\n",
      "_________________________________________________________________\n",
      " Layer (type)                Output Shape              Param #   \n",
      "=================================================================\n",
      " lstm_33 (LSTM)              (None, 60, 128)           94720     \n",
      "                                                                 \n",
      " lstm_34 (LSTM)              (None, 60, 256)           394240    \n",
      "                                                                 \n",
      " lstm_35 (LSTM)              (None, 60, 256)           525312    \n",
      "                                                                 \n",
      " lstm_36 (LSTM)              (None, 128)               197120    \n",
      "                                                                 \n",
      " dense_13 (Dense)            (None, 56)                7224      \n",
      "                                                                 \n",
      "=================================================================\n",
      "Total params: 1,218,616\n",
      "Trainable params: 1,218,616\n",
      "Non-trainable params: 0\n",
      "_________________________________________________________________\n"
     ]
    }
   ],
   "source": [
    "from tensorflow.keras import layers\n",
    "\n",
    "model = keras.models.Sequential()\n",
    "model.add(layers.LSTM(128, return_sequences=True, input_shape=(maxlen, len(chars))))\n",
    "model.add(layers.LSTM(256, return_sequences=True, dropout=0.5))\n",
    "model.add(layers.LSTM(256, return_sequences=True, dropout=0.5))\n",
    "model.add(layers.LSTM(128, dropout=0.5))\n",
    "model.add(layers.Dense(len(chars), activation='softmax'))\n",
    "model.summary()"
   ]
  },
  {
   "cell_type": "code",
   "execution_count": 83,
   "metadata": {},
   "outputs": [],
   "source": [
    "from tensorflow.keras import optimizers\n",
    "\n",
    "optimizer = optimizers.RMSprop(learning_rate=0.0005)\n",
    "model.compile(loss='categorical_crossentropy', optimizer=optimizer, metrics=['acc'])\n"
   ]
  },
  {
   "cell_type": "code",
   "execution_count": 84,
   "metadata": {},
   "outputs": [],
   "source": [
    "def sample(preds, temperature=1.0):\n",
    "    preds = np.asarray(preds).astype('float64')\n",
    "    preds = np.log(preds) / temperature # take a log function and then divided by temperature\n",
    "    exp_preds = np.exp(preds) # take a exp function\n",
    "    preds = exp_preds / np.sum(exp_preds) # normalize to 1\n",
    "    probas = np.random.multinomial(1, preds, 1) # roll a dice based on the probability distribution in preds\n",
    "    return np.argmax(probas) #return to the selected \"next character\""
   ]
  },
  {
   "cell_type": "code",
   "execution_count": 85,
   "metadata": {},
   "outputs": [],
   "source": [
    "def softmax(z): return np.exp(z)/((np.exp(z)).sum())\n",
    "def top_k_sampling(conditional_probability, k):\n",
    "  top_k_probabilities, top_k_indices= tf.math.top_k(conditional_probability, k=k, sorted=True) # find top kth chars\n",
    "  top_k_probabilities= np.asarray(top_k_probabilities).astype(\"float32\") # store probability of top kth chars\n",
    "  top_k_probabilities= np.squeeze(top_k_probabilities)\n",
    "  top_k_indices = np.asarray(top_k_indices).astype(\"int32\")\n",
    "  top_k_redistributed_probability=softmax(top_k_probabilities) # redistribute probability among top kth chars\n",
    "  top_k_redistributed_probability = np.asarray(top_k_redistributed_probability).astype(\"float32\") # store new probabilities\n",
    "  sampled_token = np.random.choice(np.squeeze(top_k_indices), p=top_k_redistributed_probability) # choosing next char\n",
    "  return sampled_token"
   ]
  },
  {
   "cell_type": "code",
   "execution_count": 86,
   "metadata": {
    "scrolled": false
   },
   "outputs": [
    {
     "name": "stdout",
     "output_type": "stream",
     "text": [
      "Epoch 1/60\n",
      "829/829 [==============================] - 49s 51ms/step - loss: 3.0408 - acc: 0.1803 - val_loss: 2.8183 - val_acc: 0.2224\n",
      "Epoch 2/60\n",
      "829/829 [==============================] - 40s 48ms/step - loss: 2.6348 - acc: 0.2536 - val_loss: 2.5071 - val_acc: 0.2718\n",
      "Epoch 3/60\n",
      "829/829 [==============================] - 42s 50ms/step - loss: 2.4549 - acc: 0.2860 - val_loss: 2.3652 - val_acc: 0.3150\n",
      "Epoch 4/60\n",
      "829/829 [==============================] - 44s 53ms/step - loss: 2.3351 - acc: 0.3185 - val_loss: 2.2534 - val_acc: 0.3387\n",
      "Epoch 5/60\n",
      "829/829 [==============================] - 48s 58ms/step - loss: 2.2389 - acc: 0.3433 - val_loss: 2.1816 - val_acc: 0.3596\n",
      "Epoch 6/60\n",
      "829/829 [==============================] - 38s 46ms/step - loss: 2.1653 - acc: 0.3599 - val_loss: 2.1051 - val_acc: 0.3782\n",
      "Epoch 7/60\n",
      "829/829 [==============================] - 39s 47ms/step - loss: 2.1103 - acc: 0.3768 - val_loss: 2.0447 - val_acc: 0.3932\n",
      "Epoch 8/60\n",
      "829/829 [==============================] - 39s 47ms/step - loss: 2.0578 - acc: 0.3904 - val_loss: 1.9919 - val_acc: 0.4073\n",
      "Epoch 9/60\n",
      "829/829 [==============================] - 38s 46ms/step - loss: 2.0114 - acc: 0.4027 - val_loss: 1.9395 - val_acc: 0.4236\n",
      "Epoch 10/60\n",
      "829/829 [==============================] - 39s 47ms/step - loss: 1.9686 - acc: 0.4140 - val_loss: 1.8979 - val_acc: 0.4314\n",
      "Epoch 11/60\n",
      "829/829 [==============================] - 39s 47ms/step - loss: 1.9295 - acc: 0.4256 - val_loss: 1.8600 - val_acc: 0.4464\n",
      "Epoch 12/60\n",
      "829/829 [==============================] - 39s 47ms/step - loss: 1.8930 - acc: 0.4355 - val_loss: 1.8269 - val_acc: 0.4542\n",
      "Epoch 13/60\n",
      "829/829 [==============================] - 39s 47ms/step - loss: 1.8569 - acc: 0.4481 - val_loss: 1.7958 - val_acc: 0.4648\n",
      "Epoch 14/60\n",
      "829/829 [==============================] - 38s 46ms/step - loss: 1.8234 - acc: 0.4545 - val_loss: 1.7650 - val_acc: 0.4731\n",
      "Epoch 15/60\n",
      "829/829 [==============================] - 38s 46ms/step - loss: 1.7946 - acc: 0.4646 - val_loss: 1.7393 - val_acc: 0.4786\n",
      "Epoch 16/60\n",
      "829/829 [==============================] - 38s 46ms/step - loss: 1.7647 - acc: 0.4720 - val_loss: 1.7129 - val_acc: 0.4882\n",
      "Epoch 17/60\n",
      "829/829 [==============================] - 43s 52ms/step - loss: 1.7414 - acc: 0.4780 - val_loss: 1.6936 - val_acc: 0.4916\n",
      "Epoch 18/60\n",
      "829/829 [==============================] - 41s 49ms/step - loss: 1.7175 - acc: 0.4853 - val_loss: 1.6875 - val_acc: 0.4933\n",
      "Epoch 19/60\n",
      "829/829 [==============================] - 37s 45ms/step - loss: 1.6978 - acc: 0.4893 - val_loss: 1.6594 - val_acc: 0.5017\n",
      "Epoch 20/60\n",
      "829/829 [==============================] - 37s 45ms/step - loss: 1.6772 - acc: 0.4951 - val_loss: 1.6392 - val_acc: 0.5070\n",
      "Epoch 21/60\n",
      "829/829 [==============================] - 37s 45ms/step - loss: 1.6562 - acc: 0.4994 - val_loss: 1.6351 - val_acc: 0.5062\n",
      "Epoch 22/60\n",
      "829/829 [==============================] - 38s 46ms/step - loss: 1.6388 - acc: 0.5054 - val_loss: 1.6227 - val_acc: 0.5109\n",
      "Epoch 23/60\n",
      "829/829 [==============================] - 39s 47ms/step - loss: 1.6234 - acc: 0.5085 - val_loss: 1.6118 - val_acc: 0.5133\n",
      "Epoch 24/60\n",
      "829/829 [==============================] - 38s 46ms/step - loss: 1.6072 - acc: 0.5138 - val_loss: 1.5923 - val_acc: 0.5196\n",
      "Epoch 25/60\n",
      "829/829 [==============================] - 39s 47ms/step - loss: 1.5908 - acc: 0.5158 - val_loss: 1.5911 - val_acc: 0.5206\n",
      "Epoch 26/60\n",
      "829/829 [==============================] - 38s 46ms/step - loss: 1.5790 - acc: 0.5209 - val_loss: 1.5854 - val_acc: 0.5235\n",
      "Epoch 27/60\n",
      "829/829 [==============================] - 39s 46ms/step - loss: 1.5635 - acc: 0.5240 - val_loss: 1.5753 - val_acc: 0.5267\n",
      "Epoch 28/60\n",
      "829/829 [==============================] - 39s 47ms/step - loss: 1.5540 - acc: 0.5264 - val_loss: 1.5627 - val_acc: 0.5306\n",
      "Epoch 29/60\n",
      "829/829 [==============================] - 39s 47ms/step - loss: 1.5429 - acc: 0.5306 - val_loss: 1.5595 - val_acc: 0.5300\n",
      "Epoch 30/60\n",
      "829/829 [==============================] - 39s 47ms/step - loss: 1.5279 - acc: 0.5336 - val_loss: 1.5512 - val_acc: 0.5333\n",
      "Epoch 31/60\n",
      "829/829 [==============================] - 39s 47ms/step - loss: 1.5167 - acc: 0.5379 - val_loss: 1.5435 - val_acc: 0.5356\n",
      "Epoch 32/60\n",
      "829/829 [==============================] - 39s 47ms/step - loss: 1.5074 - acc: 0.5392 - val_loss: 1.5389 - val_acc: 0.5371\n",
      "Epoch 33/60\n",
      "829/829 [==============================] - 39s 47ms/step - loss: 1.4966 - acc: 0.5424 - val_loss: 1.5423 - val_acc: 0.5346\n",
      "Epoch 34/60\n",
      "829/829 [==============================] - 39s 47ms/step - loss: 1.4851 - acc: 0.5469 - val_loss: 1.5310 - val_acc: 0.5385\n",
      "Epoch 35/60\n",
      "829/829 [==============================] - 39s 47ms/step - loss: 1.4751 - acc: 0.5486 - val_loss: 1.5272 - val_acc: 0.5413\n",
      "Epoch 36/60\n",
      "829/829 [==============================] - 39s 47ms/step - loss: 1.4647 - acc: 0.5510 - val_loss: 1.5238 - val_acc: 0.5406\n",
      "Epoch 37/60\n",
      "829/829 [==============================] - 39s 47ms/step - loss: 1.4596 - acc: 0.5534 - val_loss: 1.5165 - val_acc: 0.5429\n",
      "Epoch 38/60\n",
      "829/829 [==============================] - 39s 47ms/step - loss: 1.4493 - acc: 0.5536 - val_loss: 1.5159 - val_acc: 0.5438\n",
      "Epoch 39/60\n",
      "829/829 [==============================] - 39s 47ms/step - loss: 1.4405 - acc: 0.5578 - val_loss: 1.5152 - val_acc: 0.5442\n",
      "Epoch 40/60\n",
      "829/829 [==============================] - 39s 47ms/step - loss: 1.4317 - acc: 0.5611 - val_loss: 1.5095 - val_acc: 0.5474\n",
      "Epoch 41/60\n",
      "829/829 [==============================] - 39s 47ms/step - loss: 1.4240 - acc: 0.5628 - val_loss: 1.5141 - val_acc: 0.5447\n",
      "Epoch 42/60\n",
      "829/829 [==============================] - 39s 47ms/step - loss: 1.4181 - acc: 0.5645 - val_loss: 1.5063 - val_acc: 0.5475\n",
      "Epoch 43/60\n",
      "829/829 [==============================] - 39s 47ms/step - loss: 1.4084 - acc: 0.5665 - val_loss: 1.5071 - val_acc: 0.5489\n",
      "Epoch 44/60\n",
      "829/829 [==============================] - 39s 47ms/step - loss: 1.4019 - acc: 0.5671 - val_loss: 1.5022 - val_acc: 0.5505\n",
      "Epoch 45/60\n",
      "829/829 [==============================] - 39s 47ms/step - loss: 1.3924 - acc: 0.5702 - val_loss: 1.5005 - val_acc: 0.5501\n",
      "Epoch 46/60\n",
      "829/829 [==============================] - 39s 47ms/step - loss: 1.3865 - acc: 0.5725 - val_loss: 1.5007 - val_acc: 0.5499\n",
      "Epoch 47/60\n",
      "829/829 [==============================] - 39s 47ms/step - loss: 1.3795 - acc: 0.5738 - val_loss: 1.5020 - val_acc: 0.5522\n",
      "Epoch 48/60\n",
      "829/829 [==============================] - 39s 47ms/step - loss: 1.3722 - acc: 0.5764 - val_loss: 1.5007 - val_acc: 0.5546\n",
      "Epoch 49/60\n",
      "829/829 [==============================] - 39s 47ms/step - loss: 1.3667 - acc: 0.5780 - val_loss: 1.4956 - val_acc: 0.5556\n",
      "Epoch 50/60\n",
      "829/829 [==============================] - 39s 47ms/step - loss: 1.3563 - acc: 0.5817 - val_loss: 1.4990 - val_acc: 0.5541\n",
      "Epoch 51/60\n",
      "829/829 [==============================] - 38s 46ms/step - loss: 1.3514 - acc: 0.5825 - val_loss: 1.4940 - val_acc: 0.5578\n",
      "Epoch 52/60\n",
      "829/829 [==============================] - 38s 46ms/step - loss: 1.3451 - acc: 0.5834 - val_loss: 1.4989 - val_acc: 0.5574\n",
      "Epoch 53/60\n",
      "829/829 [==============================] - 39s 47ms/step - loss: 1.3399 - acc: 0.5856 - val_loss: 1.4964 - val_acc: 0.5585\n",
      "Epoch 54/60\n",
      "829/829 [==============================] - 39s 47ms/step - loss: 1.3356 - acc: 0.5865 - val_loss: 1.4973 - val_acc: 0.5558\n",
      "Epoch 55/60\n",
      "829/829 [==============================] - 39s 47ms/step - loss: 1.3282 - acc: 0.5900 - val_loss: 1.4973 - val_acc: 0.5571\n",
      "Epoch 56/60\n",
      "829/829 [==============================] - 39s 47ms/step - loss: 1.3245 - acc: 0.5893 - val_loss: 1.4937 - val_acc: 0.5580\n",
      "Epoch 57/60\n",
      "829/829 [==============================] - 39s 47ms/step - loss: 1.3162 - acc: 0.5909 - val_loss: 1.4981 - val_acc: 0.5592\n",
      "Epoch 58/60\n",
      "829/829 [==============================] - 39s 47ms/step - loss: 1.3086 - acc: 0.5923 - val_loss: 1.4957 - val_acc: 0.5577\n",
      "Epoch 59/60\n",
      "829/829 [==============================] - 39s 47ms/step - loss: 1.3050 - acc: 0.5963 - val_loss: 1.4978 - val_acc: 0.5575\n",
      "Epoch 60/60\n",
      "829/829 [==============================] - 39s 46ms/step - loss: 1.2984 - acc: 0.5962 - val_loss: 1.4921 - val_acc: 0.5618\n",
      "--- Generating with seed: \" round and round his new room. \n",
      "someone knew he had moved ou\"\n",
      "------ temperature: 0.2\n",
      " round and round his new room. \n"
     ]
    },
    {
     "name": "stdout",
     "output_type": "stream",
     "text": [
      "someone knew he had moved out of"
     ]
    },
    {
     "name": "stderr",
     "output_type": "stream",
     "text": [
      "C:\\Users\\USER\\AppData\\Local\\Temp\\ipykernel_21220\\291334795.py:3: RuntimeWarning: divide by zero encountered in log\n",
      "  preds = np.log(preds) / temperature # take a log function and then divided by temperature\n"
     ]
    },
    {
     "name": "stdout",
     "output_type": "stream",
     "text": [
      " the stranger \n",
      "\"broomstick, but he was started to the street time as \"\n",
      "\"they had to be able to the start of the start and stared \"\n",
      "\"was a very through the show the boy, harry was been \"\n",
      "and say and said. “i want a lot to get the mirror \n",
      "\"could be in a course to the starts of the starts of the \"\n",
      "\"street, harry had been have been the same and the \"\n",
      "\"sleeph, which was a look and started to the st\n",
      "------ temperature: 0.5\n",
      " round and round his new room. \n",
      "someone knew he had moved out of the fromt of the \n",
      "\"turned. they was being to the parches, but it was \"\n",
      "the way the broomstick had been a bit of the train \n",
      "\"would be about the owly of the start of the car was \"\n",
      "\"was alwoys was a small was pulling the train, with \"\n",
      "and pon with a pight and could as harry had a loug \n",
      "\"were harry to have been a pulled out of the good, they \"\n",
      "\"seemed out of the cloak, he had alwoys gone floors \"\n",
      "------ temperature: 1.0\n",
      " round and round his new room. \n",
      "someone knew he had moved out the sleens — had \n",
      "and he not been dade’t that dudley said startes to \n",
      "the lifty punce blonagall and something’s food and \n",
      "\"wanding to dimw — well, harry again, they mad to \"\n",
      "were ploufed into the georg. \n",
      "\"“around here,” rane back. it. i don’t bryfan eyes the \"\n",
      "\"nain?” \"\n",
      "he cleaped. \n",
      "“nrayhins is he’d be if surprasy fealized! slreems with \"\n",
      "\"bell, and narper, on lage right from their back on \"\n",
      "do\n",
      "------ temperature: 1.2\n",
      " round and round his new room. \n",
      "someone knew he had moved out of the secut. \n",
      "“shatten it. \n",
      "\"“i snow gryfitior, if they wanted have term to see ohe \"\n",
      "they.” \n",
      "“sevet. i conts of esbin.” \n",
      "harry curboped on their joment nender face siting. \n",
      "“white?”’ she was looking was food to ronsed. \n",
      "“it was wooders and let fapt he’d feod!” \n",
      "\"mabfoy, thin they just les whroril aod leoanang — \"\n",
      "\"snape, was nound to free turned around humrlepuff \"\n",
      "\"should, t. the hear, he let\n",
      "Text Generated by Top-K Sampling:\n",
      "------ Top-k: 2\n",
      " round and round his new room. \n",
      "someone knew he had moved outsil at the showe. \n",
      "\"hard had benn harrid were,” sais, he starting all the \"\n",
      "magpieg and that had that. her were said. “yeh andter. \n",
      "\"“i’ve got at to think to tell that me?”” \"\n",
      "\"hardy hadn’t buttle were learning and seemed and \"\n",
      "\"they were lookich an his face, hagped,”.. “i whore i \"\n",
      "\"you’ll got it. that’ge,” he sat had sayins.. “she said, \"\n",
      "\"so went that, and yes,” \"\n",
      "he wented throotind the cartl\n",
      "------ Top-k: 3\n",
      " round and round his new room. \n",
      "someone knew he had moved ound.. \n",
      "\"harrid,” ron’s. \"\n",
      "he worded tripins.. streings on hard. \n",
      "“wand i’m. i ket y.o he’d seen at tell in a car and the erle \n",
      "\"ourse. houres, we’le be ime yer mess. they, becalver intort \n",
      "at and. “harrle’s takint?. \n",
      "\"“shat i wondered of,, say yeh, the weess on he cause i woull \n",
      "\"seat, things thick,”s hagrir, he can crashind all. \"\n",
      "toworry’s. they’re bettee and she say. had bringed.”. \n",
      "“yoo’ll that\n",
      "------ Top-k: 4\n",
      " round and round his new room. \n",
      "someone knew he had moved out oven.shous sayicasing as a let,...’s.”. \"\n",
      "\"anyosh somiunl oum hagpen...,. hagrod poundad \"as \"\"\n",
      "thatesthing askid. tealled hopwarts’ a len..” sherying \n",
      "\"they’rlabling was, as, trievil as houcinc,,s,..,...s “hagry at \n",
      "took?”.. \n",
      "he haveden hitn abreed to bace.ten hart toollind.” \"heirlys \"\n",
      "hardry’s hanged’lamy tritcises to to him belllan anywhlid ounttods \n",
      "hid possebsioul. and a picter of grancoss\n",
      "------ Top-k: 5\n",
      " round and round his new room. \n",
      "someone knew he had moved ouces our.rhade fine offt a \n",
      "lous. \n",
      "too”l\n",
      "“yample?”.””.’ls seimurs wood root with bragin’l likin \n",
      "towaylys?shin’” to day allem. huddag ag andovil at \n",
      "strote in fars willedst by he’dricasely?”’. \n",
      "to hage anysare thres what’g. teaclishins feal talkesedtindlel aclim thinkes thirstingss too at.” \"en alltthen enll,,.. \"ren.”. \n",
      "harricles stithle overtainer lugglangs ifstattsid’r spight- \n",
      "foling-imeritateo\n"
     ]
    }
   ],
   "source": [
    "import random\n",
    "import sys\n",
    "\n",
    "history = model.fit(x, y,\n",
    "      validation_split = 0.3,\n",
    "      batch_size=128,\n",
    "      epochs=60)\n",
    "\n",
    "# Select a text seed at random\n",
    "start_index = random.randint(0, len(text) - maxlen - 1)\n",
    "generated_text_initial = text[start_index: start_index + maxlen]\n",
    "print('--- Generating with seed: \"' + generated_text_initial + '\"')\n",
    "\n",
    "for temperature in [0.2, 0.5, 1.0, 1.2]:\n",
    "    generated_text = generated_text_initial\n",
    "    print('------ temperature:', temperature)\n",
    "    sys.stdout.write(generated_text)\n",
    "\n",
    "    # We generate 400 characters\n",
    "    for i in range(400):\n",
    "        sampled = np.zeros((1, maxlen, len(chars)))\n",
    "        for t, char in enumerate(generated_text):\n",
    "            sampled[0, t, char_indices[char]] = 1.\n",
    "\n",
    "        preds = model.predict(sampled, verbose=0)[0] # to get the softmax output\n",
    "        next_index = sample(preds, temperature)\n",
    "        next_char = chars[next_index]\n",
    "\n",
    "        generated_text += next_char\n",
    "        generated_text = generated_text[1:]\n",
    "\n",
    "        sys.stdout.write(next_char)\n",
    "        sys.stdout.flush()\n",
    "    print()\n",
    "    \n",
    "#Text Generated by Top-K Sampling\n",
    "print(\"Text Generated by Top-K Sampling:\")\n",
    "for k in [2, 3, 4, 5]:\n",
    "    generated_text = generated_text_initial\n",
    "    print('------ Top-k:', k)\n",
    "    sys.stdout.write(generated_text)\n",
    "    \n",
    "    # We generate 400 characters\n",
    "    for i in range(400):\n",
    "        sampled = np.zeros((1, maxlen, len(chars)))\n",
    "        for t, char in enumerate(generated_text):\n",
    "            sampled[0, t, char_indices[char]] = 1.\n",
    "        \n",
    "        preds = model.predict(sampled, verbose=0)[0] # to get the softmax output\n",
    "        next_index = top_k_sampling(preds.squeeze(), k)\n",
    "        next_char = chars[next_index]\n",
    "\n",
    "        generated_text += next_char\n",
    "        generated_text = generated_text[1:]\n",
    "\n",
    "        sys.stdout.write(next_char)\n",
    "        sys.stdout.flush()\n",
    "    print()"
   ]
  },
  {
   "cell_type": "code",
   "execution_count": 89,
   "metadata": {},
   "outputs": [
    {
     "data": {
      "image/png": "[encoded data removed]",
      "text/plain": [
       "<Figure size 432x288 with 1 Axes>"
      ]
     },
     "metadata": {
      "needs_background": "light"
     },
     "output_type": "display_data"
    },
    {
     "data": {
      "image/png": "[encoded data removed]",
      "text/plain": [
       "<Figure size 432x288 with 1 Axes>"
      ]
     },
     "metadata": {
      "needs_background": "light"
     },
     "output_type": "display_data"
    }
   ],
   "source": [
    "%matplotlib inline\n",
    "\n",
    "acc = history.history['acc']\n",
    "val_acc = history.history['val_acc']\n",
    "loss = history.history['loss']\n",
    "val_loss = history.history['val_loss']\n",
    "\n",
    "epochs = range(len(acc))\n",
    "\n",
    "plt.plot(epochs, acc, 'bo', label='Training acc')\n",
    "plt.plot(epochs, val_acc, 'b', label='Validation acc')\n",
    "plt.title('Training and validation accuracy')\n",
    "plt.legend()\n",
    "\n",
    "plt.figure()\n",
    "\n",
    "plt.plot(epochs, loss, 'bo', label='Training loss')\n",
    "plt.plot(epochs, val_loss, 'b', label='Validation loss')\n",
    "plt.title('Training and validation loss')\n",
    "plt.legend()\n",
    "\n",
    "plt.show()"
   ]
  },
  {
   "cell_type": "code",
   "execution_count": 88,
   "metadata": {},
   "outputs": [],
   "source": [
    "# Save the Model\n",
    "model.save('character_generator_model_1.h5')"
   ]
  },
  {
   "cell_type": "markdown",
   "metadata": {},
   "source": [
    "# Step 3 – Use the developed Model to generate the characters / sentences"
   ]
  },
  {
   "cell_type": "code",
   "execution_count": 22,
   "metadata": {
    "scrolled": true
   },
   "outputs": [
    {
     "name": "stdout",
     "output_type": "stream",
     "text": [
      "this day is a beautiful day, and no one is going to ruin it!\n"
     ]
    }
   ],
   "source": [
    "# takes the user input\n",
    "text_input = np.array([input()])"
   ]
  },
  {
   "cell_type": "code",
   "execution_count": 23,
   "metadata": {},
   "outputs": [
    {
     "name": "stdout",
     "output_type": "stream",
     "text": [
      "--- Generating with seed: \"this day is a beautiful day, and no one is going to ruin it!\"\n",
      "------ temperature: 0.5\n",
      "this day is a beautiful day, and no one is going to ruin it! \n",
      "\"“but not something might, you’ve got it might it, you \"\n",
      "\"an’ther,” said ron. “while you wouldn’t know what \"\n",
      "\"while i’m looking for a cran hampy, he’d not to atk \"\n",
      "\"hermione professor mcgonagall asked, they streed \"\n",
      "\"outside the strains on her manage, they was could \"\n",
      "\"something he’d back to staring the car, and harry \"\n",
      "\"was stranger to the tipe they was a marge the fat, \"\n",
      "\"“while may,” said ha\n"
     ]
    }
   ],
   "source": [
    "# encode the user input and use the Best Model to generate 400 characters\n",
    "\n",
    "# Load the model\n",
    "model = keras.models.load_model('character_generator_model_1.h5')\n",
    "\n",
    "generated_text_initial = text_input[0]\n",
    "print('--- Generating with seed: \"' + generated_text_initial + '\"')\n",
    "\n",
    "for temperature in [0.5]:\n",
    "    generated_text = generated_text_initial\n",
    "    print('------ temperature:', temperature)\n",
    "    sys.stdout.write(generated_text)\n",
    "\n",
    "    # We generate 400 characters\n",
    "    for i in range(400):\n",
    "        sampled = np.zeros((1, maxlen, len(chars)))\n",
    "        for t, char in enumerate(generated_text):\n",
    "            sampled[0, t, char_indices[char]] = 1.\n",
    "\n",
    "        preds = model.predict(sampled, verbose=0)[0] # to get the softmax output\n",
    "        next_index = sample(preds, temperature)\n",
    "        next_char = chars[next_index]\n",
    "\n",
    "        generated_text += next_char\n",
    "        generated_text = generated_text[1:]\n",
    "\n",
    "        sys.stdout.write(next_char)\n",
    "        sys.stdout.flush()\n",
    "    print()"
   ]
  }
 ],
 "metadata": {
  "kernelspec": {
   "display_name": "Python 3 (ipykernel)",
   "language": "python",
   "name": "python3"
  },
  "language_info": {
   "codemirror_mode": {
    "name": "ipython",
    "version": 3
   },
   "file_extension": ".py",
   "mimetype": "text/x-python",
   "name": "python",
   "nbconvert_exporter": "python",
   "pygments_lexer": "ipython3",
   "version": "3.9.12"
  }
 },
 "nbformat": 4,
 "nbformat_minor": 2
}
